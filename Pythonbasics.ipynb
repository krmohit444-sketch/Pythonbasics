{
  "cells": [
    {
      "cell_type": "markdown",
      "metadata": {
        "id": "b_EXbm1PMDRU"
      },
      "source": [
        "# **Assignment : Python Basics**"
      ]
    },
    {
      "cell_type": "markdown",
      "metadata": {
        "id": "Ht8RQNErMTkW"
      },
      "source": [
        "1.  What is Python, and why is it popular ?\n",
        "\n",
        "  =>   Python is a high-level, interpreted language known for its simplicity, readability, and large community support. It's popular in web development, data science, AI, etc.\n",
        "\n",
        "2.  What is an interpreter in Python ?\n",
        "\n",
        "  =>  An interpreter executes Python code line by line at runtime instead of compiling it first.\n",
        "\n",
        "3. What are pre-defined keywords in Python ?\n",
        "\n",
        "  =>  Pre-defined keywords are reserved words in Python with special meaning, like if, else, while, etc.\n",
        "\n",
        "4. Can keywords be used as variable names ?\n",
        "\n",
        "  =>  No, keywords cannot be used as variable names.\n",
        "\n",
        "5. What is mutability in Python ?\n",
        "\n",
        "  =>  Mutability refers to whether an object can be changed after creation.\n",
        "\n",
        "6. Why are lists mutable, but tuples are immutable ?\n",
        "\n",
        "  =>  Lists are mutable, so their elements can be changed. Tuples are immutable, meaning they cannot be altered once defined.\n",
        "\n",
        "7. What is the difference between “==” and “is” operators in Python ?\n",
        "\n",
        "  =>  \"==\" checks if values are equal, while \"is\" checks if two variables refer to the same object in memory.\n",
        "\n",
        "8. What are logical operators in Python ?\n",
        "\n",
        "  =>  Logical operators in Python are: and, or, and not.\n",
        "\n",
        "9. What is type casting in Python ?\n",
        "\n",
        "  =>  Type casting is converting one data type into another (e.g., str to int).\n",
        "\n",
        "10. What is the difference between implicit and explicit type casting ?\n",
        "\n",
        "  =>  Implicit casting is automatic, done by Python. Explicit casting is done manually using functions like int(), float(), etc.\n",
        "\n",
        "11. What is the purpose of conditional statements in Python ?\n",
        "\n",
        "  =>  Conditional statements allow decision-making in code based on conditions.\n",
        "\n",
        "12. How does the elif statement work ?\n",
        "\n",
        "  =>  elif is used when there are multiple conditions to check after an if.\n",
        "\n",
        "13. What is the difference between for and while loops ?\n",
        "\n",
        "  =>  for loop is used when the number of iterations is known. while loop is used when it depends on a condition.\n",
        "\n",
        "14. Describe a scenario where a while loop is more suitable than a for loop.\n",
        "\n",
        "  =>  A while loop is better when the number of repetitions is unknown. For\n",
        "example, asking a user for correct input continues until valid data is entered. It runs based on a condition, not a fixed number of times.\n"
      ]
    },
    {
      "cell_type": "markdown",
      "metadata": {
        "id": "d7D8T4G7WP-N"
      },
      "source": [
        "# **Practical Questions**"
      ]
    },
    {
      "cell_type": "code",
      "source": [
        "# 1. Write a Python program to print \"Hello, World!\"\n",
        "print(\"Hello, World!\")\n",
        "\n"
      ],
      "metadata": {
        "colab": {
          "base_uri": "https://localhost:8080/"
        },
        "id": "JZrei5Ss6xDx",
        "outputId": "fafb4406-c382-4fb1-a5aa-afae58e80c5f"
      },
      "execution_count": null,
      "outputs": [
        {
          "output_type": "stream",
          "name": "stdout",
          "text": [
            "Hello, World!\n"
          ]
        }
      ]
    },
    {
      "cell_type": "code",
      "source": [
        "# 2. Write a Python program that displays your name and age.\n",
        "name = \"Mohit\"\n",
        "age = 24\n",
        "print(\"Name:\", name)\n",
        "print(\"Age:\", age)\n"
      ],
      "metadata": {
        "colab": {
          "base_uri": "https://localhost:8080/"
        },
        "id": "8tKpg0j862uf",
        "outputId": "97321a30-2d9f-43e3-87b8-6b3f9ee4641d"
      },
      "execution_count": null,
      "outputs": [
        {
          "output_type": "stream",
          "name": "stdout",
          "text": [
            "Name: Mohit\n",
            "Age: 24\n"
          ]
        }
      ]
    },
    {
      "cell_type": "code",
      "source": [
        "# 3. Write code to print all the pre-defined keywords in Python using the keyword library.\n",
        "import keyword\n",
        "print(keyword.kwlist)\n"
      ],
      "metadata": {
        "colab": {
          "base_uri": "https://localhost:8080/"
        },
        "id": "nUo1ijNo7OL9",
        "outputId": "84a6c7c6-298e-44c7-d1d4-689a5ff1925d"
      },
      "execution_count": null,
      "outputs": [
        {
          "output_type": "stream",
          "name": "stdout",
          "text": [
            "['False', 'None', 'True', 'and', 'as', 'assert', 'async', 'await', 'break', 'class', 'continue', 'def', 'del', 'elif', 'else', 'except', 'finally', 'for', 'from', 'global', 'if', 'import', 'in', 'is', 'lambda', 'nonlocal', 'not', 'or', 'pass', 'raise', 'return', 'try', 'while', 'with', 'yield']\n"
          ]
        }
      ]
    },
    {
      "cell_type": "code",
      "source": [
        "# 4. Write a program that checks if a given word is a Python keyword.\n",
        "def is_keyword(word):\n",
        "    return keyword.iskeyword(word)\n",
        "print(is_keyword(\"for\"))"
      ],
      "metadata": {
        "colab": {
          "base_uri": "https://localhost:8080/"
        },
        "id": "9RA3YMMC7YVK",
        "outputId": "8c43fb70-e04d-4790-9dc6-31603299ac0e"
      },
      "execution_count": null,
      "outputs": [
        {
          "output_type": "stream",
          "name": "stdout",
          "text": [
            "True\n"
          ]
        }
      ]
    },
    {
      "cell_type": "code",
      "source": [
        "# 5. Create a list and tuple in Python, and demonstrate how attempting to change an element works differently for each.\n",
        "my_list = [1, 2, 3]\n",
        "my_tuple = (1, 2, 3)\n",
        "\n",
        "print(\"Original list:\", my_list)\n",
        "print(\"Original tuple:\", my_tuple)\n",
        "\n",
        "# Attempt to change an element in the list (mutable)\n",
        "my_list[0] = 10\n",
        "print(\"List after changing element:\", my_list)\n",
        "\n",
        "# Attempt to change an element in the tuple (immutable)\n",
        "try:\n",
        "    my_tuple[0] = 10\n",
        "except TypeError as e:\n",
        "    print(\"Error when attempting to change element in tuple:\", e)"
      ],
      "metadata": {
        "colab": {
          "base_uri": "https://localhost:8080/"
        },
        "id": "Qfbvj7tY7ngm",
        "outputId": "869e7ee9-c3c5-4943-d666-ca040353c12d"
      },
      "execution_count": null,
      "outputs": [
        {
          "output_type": "stream",
          "name": "stdout",
          "text": [
            "Original list: [1, 2, 3]\n",
            "Original tuple: (1, 2, 3)\n",
            "List after changing element: [10, 2, 3]\n",
            "Error when attempting to change element in tuple: 'tuple' object does not support item assignment\n"
          ]
        }
      ]
    },
    {
      "cell_type": "code",
      "source": [
        "# 6. Write a function to demonstrate the behavior of mutable and immutable arguments.\n",
        "def modify_elements(mutable_arg, immutable_arg):\n",
        "    mutable_arg[0] = 'changed'\n",
        "    immutable_arg += 1\n",
        "    print(\"Inside:\", mutable_arg, immutable_arg)\n",
        "\n",
        "my_list = [1, 2, 3]\n",
        "my_int = 10\n",
        "modify_elements(my_list, my_int)\n",
        "print(\"Outside:\", my_list, my_int)"
      ],
      "metadata": {
        "colab": {
          "base_uri": "https://localhost:8080/"
        },
        "id": "Aez1obVH79M-",
        "outputId": "fc3e6f8a-1109-422c-ebff-c9d0d57d29d3"
      },
      "execution_count": null,
      "outputs": [
        {
          "output_type": "stream",
          "name": "stdout",
          "text": [
            "Inside: ['changed', 2, 3] 11\n",
            "Outside: ['changed', 2, 3] 10\n"
          ]
        }
      ]
    },
    {
      "cell_type": "code",
      "source": [
        "# 7.  Write a program that performs basic arithmetic operations on two user-input numbers.\n",
        "a = float(input(\"Enter first number: \"))\n",
        "b = float(input(\"Enter second number: \"))\n",
        "print(\"Sum:\", a + b)\n",
        "print(\"Diff:\", a - b)\n",
        "print(\"Prod:\", a * b)\n",
        "print(\"Div:\", a / b)\n",
        "print(\"Mod:\", a % b)\n",
        "print(\"Floor Div:\", a // b)"
      ],
      "metadata": {
        "colab": {
          "base_uri": "https://localhost:8080/"
        },
        "id": "DvNLXnJx8dNm",
        "outputId": "e144c654-2f81-49eb-8553-87a1f171e7c4"
      },
      "execution_count": null,
      "outputs": [
        {
          "output_type": "stream",
          "name": "stdout",
          "text": [
            "Enter first number: 20\n",
            "Enter second number: 10\n",
            "Sum: 30.0\n",
            "Diff: 10.0\n",
            "Prod: 200.0\n",
            "Div: 2.0\n",
            "Mod: 0.0\n",
            "Floor Div: 2.0\n"
          ]
        }
      ]
    },
    {
      "cell_type": "code",
      "source": [
        "# 8. Write a program to demonstrate the use of logical operators.\n",
        "x = True\n",
        "y = False\n",
        "print(\"x and y:\", x and y)\n",
        "print(\"x or y:\", x or y)\n",
        "print(\"not x:\", not x)"
      ],
      "metadata": {
        "colab": {
          "base_uri": "https://localhost:8080/"
        },
        "id": "BlMI_XM989mZ",
        "outputId": "42983786-9f1f-4543-e126-4cf35d85f2ec"
      },
      "execution_count": null,
      "outputs": [
        {
          "output_type": "stream",
          "name": "stdout",
          "text": [
            "x and y: False\n",
            "x or y: True\n",
            "not x: False\n"
          ]
        }
      ]
    },
    {
      "cell_type": "code",
      "source": [
        "# 9. Write a Python program to convert user input from string to integer, float, and boolean types.\n",
        "user_input = input(\"Enter number: \")\n",
        "print(\"int:\", int(user_input))\n",
        "print(\"float:\", float(user_input))\n",
        "print(\"bool:\", bool(int(user_input)))"
      ],
      "metadata": {
        "colab": {
          "base_uri": "https://localhost:8080/"
        },
        "id": "x_uCrSyZ9H_j",
        "outputId": "b154a374-7ce4-4ec4-ffe1-e14256217f37"
      },
      "execution_count": null,
      "outputs": [
        {
          "output_type": "stream",
          "name": "stdout",
          "text": [
            "Enter number: 20\n",
            "int: 20\n",
            "float: 20.0\n",
            "bool: True\n"
          ]
        }
      ]
    },
    {
      "cell_type": "code",
      "source": [
        "# 10. Write code to demonstrate type casting with list elements.\n",
        "str_list = [\"1\", \"2\", \"3\"]\n",
        "int_list = [int(i) for i in str_list]\n",
        "print(int_list)"
      ],
      "metadata": {
        "colab": {
          "base_uri": "https://localhost:8080/"
        },
        "id": "o9oU9fnB9fcM",
        "outputId": "fd702f51-b352-40d2-d1af-f7422dd2d09e"
      },
      "execution_count": null,
      "outputs": [
        {
          "output_type": "stream",
          "name": "stdout",
          "text": [
            "[1, 2, 3]\n"
          ]
        }
      ]
    },
    {
      "cell_type": "code",
      "source": [
        "# 11. Write a program that checks if a number is positive, negative, or zero.\n",
        "num = float(input(\"Enter a number: \"))\n",
        "if num > 0:\n",
        "    print(\"Positive\")\n",
        "elif num < 0:\n",
        "    print(\"Negative\")\n",
        "else:\n",
        "    print(\"Zero\")"
      ],
      "metadata": {
        "colab": {
          "base_uri": "https://localhost:8080/"
        },
        "id": "GIeg1CAj9tQX",
        "outputId": "d77a4774-3bf9-4ef7-d2f2-0b8731ddb6fe"
      },
      "execution_count": null,
      "outputs": [
        {
          "output_type": "stream",
          "name": "stdout",
          "text": [
            "Enter a number: 5\n",
            "Positive\n"
          ]
        }
      ]
    },
    {
      "cell_type": "code",
      "source": [
        "# 12. Write a for loop to print numbers from 1 to 10.\n",
        "\n",
        "for i in range(1, 11):\n",
        "    print(i)\n",
        "\n"
      ],
      "metadata": {
        "colab": {
          "base_uri": "https://localhost:8080/"
        },
        "id": "Ts8IAn34-I1l",
        "outputId": "ba20b7f3-4930-416d-ed40-bfde1fa7495e"
      },
      "execution_count": null,
      "outputs": [
        {
          "output_type": "stream",
          "name": "stdout",
          "text": [
            "1\n",
            "2\n",
            "3\n",
            "4\n",
            "5\n",
            "6\n",
            "7\n",
            "8\n",
            "9\n",
            "10\n"
          ]
        }
      ]
    },
    {
      "cell_type": "code",
      "source": [
        "# 13. Write a Python program to find the sum of all even numbers between 1 and 50.\n",
        "even_sum = sum(i for i in range(1, 51) if i % 2 == 0)\n",
        "print(\"Sum:\", even_sum)"
      ],
      "metadata": {
        "colab": {
          "base_uri": "https://localhost:8080/"
        },
        "id": "nsGxwh0k-UnA",
        "outputId": "bfcf6a1b-08ce-40a8-d35e-4c9a6d3a23dc"
      },
      "execution_count": null,
      "outputs": [
        {
          "output_type": "stream",
          "name": "stdout",
          "text": [
            "Sum: 650\n"
          ]
        }
      ]
    },
    {
      "cell_type": "code",
      "source": [
        "# 14.  Write a program to reverse a string using a while loop.\n",
        "s = input(\"Enter string: \")\n",
        "i = len(s) - 1\n",
        "rev = \"\"\n",
        "while i >= 0:\n",
        "    rev += s[i]\n",
        "    i -= 1\n",
        "print(\"Reversed:\", rev)"
      ],
      "metadata": {
        "colab": {
          "base_uri": "https://localhost:8080/"
        },
        "id": "sa52IVy8-c4_",
        "outputId": "11b13e9e-a98d-4aca-979d-e03f5b4723d1"
      },
      "execution_count": null,
      "outputs": [
        {
          "output_type": "stream",
          "name": "stdout",
          "text": [
            "Enter string: 25\n",
            "Reversed: 52\n"
          ]
        }
      ]
    },
    {
      "cell_type": "code",
      "source": [
        "# 15. Write a Python program to calculate the factorial of a number provided by the user using a while loop.\n",
        "num = int(input(\"Enter number: \"))\n",
        "fact = 1\n",
        "while num > 1:\n",
        "    fact *= num\n",
        "    num -= 1\n",
        "print(\"Factorial:\", fact)"
      ],
      "metadata": {
        "colab": {
          "base_uri": "https://localhost:8080/"
        },
        "id": "e1QnDDwN-p0q",
        "outputId": "8b2e3942-ebc6-4d09-fdd4-540688019aee"
      },
      "execution_count": null,
      "outputs": [
        {
          "output_type": "stream",
          "name": "stdout",
          "text": [
            "Enter number: 10\n",
            "Factorial: 3628800\n"
          ]
        }
      ]
    }
  ],
  "metadata": {
    "colab": {
      "provenance": []
    },
    "kernelspec": {
      "display_name": "base",
      "language": "python",
      "name": "python3"
    },
    "language_info": {
      "codemirror_mode": {
        "name": "ipython",
        "version": 3
      },
      "file_extension": ".py",
      "mimetype": "text/x-python",
      "name": "python",
      "nbconvert_exporter": "python",
      "pygments_lexer": "ipython3",
      "version": "3.13.5"
    }
  },
  "nbformat": 4,
  "nbformat_minor": 0
}